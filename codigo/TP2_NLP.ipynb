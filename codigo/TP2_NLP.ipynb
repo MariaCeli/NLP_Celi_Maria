{
  "cells": [
    {
      "cell_type": "markdown",
      "metadata": {
        "id": "SS0ng5y12z1a"
      },
      "source": [
        "### Ejercicio 1\n",
        "---"
      ]
    },
    {
      "cell_type": "markdown",
      "metadata": {
        "id": "orfJgvfhgR86"
      },
      "source": [
        "### Ejercicio 2\n",
        " Apoyándose en la sección de información. Separa en fragmentos un texto extenso extraído\n",
        " y vectoriza cada fragmento con alguno de los modelos de embedding vistos en clases.\n",
        "Luego realiza un análisis de similitud de texto ingresando varias frases a buscar\n",
        "semánticamente, compare distintas técnicas de distancias vistas en clases, elija la mejor y\n",
        "justifique la razón por la que esa técnica se ajusta para este tipo de búsquedas.\n",
        "OPCIONAL: Visualizar en 3D aplicando PCA o t-SNE la ubicación de los fragmentos y la\n",
        "query ingresada vectorizada en el espacio. Realizar una observación sobre la visualización."
      ]
    },
    {
      "cell_type": "code",
      "execution_count": 3,
      "metadata": {
        "colab": {
          "base_uri": "https://localhost:8080/",
          "height": 1270
        },
        "id": "sUKZSWvvfUl5",
        "outputId": "7f1f11a6-4652-4828-dba7-107212aefd38"
      },
      "outputs": [
        {
          "name": "stderr",
          "output_type": "stream",
          "text": [
            "\n",
            "[notice] A new release of pip is available: 24.0 -> 25.1.1\n",
            "[notice] To update, run: C:\\Users\\marya\\AppData\\Local\\Microsoft\\WindowsApps\\PythonSoftwareFoundation.Python.3.11_qbz5n2kfra8p0\\python.exe -m pip install --upgrade pip\n"
          ]
        },
        {
          "data": {
            "text/html": [
              "<div>\n",
              "<style scoped>\n",
              "    .dataframe tbody tr th:only-of-type {\n",
              "        vertical-align: middle;\n",
              "    }\n",
              "\n",
              "    .dataframe tbody tr th {\n",
              "        vertical-align: top;\n",
              "    }\n",
              "\n",
              "    .dataframe thead th {\n",
              "        text-align: right;\n",
              "    }\n",
              "</style>\n",
              "<table border=\"1\" class=\"dataframe\">\n",
              "  <thead>\n",
              "    <tr style=\"text-align: right;\">\n",
              "      <th></th>\n",
              "      <th>Query</th>\n",
              "      <th>Top Cosine</th>\n",
              "      <th>Top Euclidean</th>\n",
              "      <th>Top Manhattan</th>\n",
              "    </tr>\n",
              "  </thead>\n",
              "  <tbody>\n",
              "    <tr>\n",
              "      <th>0</th>\n",
              "      <td>Cómo se construyen edificios</td>\n",
              "      <td>[555 N El Camino Real #A393,  \\nSan Clemente, CA 92672, USA\\nAll rights reserved., After a resource has been placed, players have until  the next resource is named to construct any buildings., A resource can only be used to  construct 1 building — in other  words, every building requires all  of its resources.\\nBuildings do not have to be  constructed as soon as its  resources are in place.]</td>\n",
              "      <td>[555 N El Camino Real #A393,  \\nSan Clemente, CA 92672, USA\\nAll rights reserved., After a resource has been placed, players have until  the next resource is named to construct any buildings., A resource can only be used to  construct 1 building — in other  words, every building requires all  of its resources.\\nBuildings do not have to be  constructed as soon as its  resources are in place.]</td>\n",
              "      <td>[555 N El Camino Real #A393,  \\nSan Clemente, CA 92672, USA\\nAll rights reserved., After a resource has been placed, players have until  the next resource is named to construct any buildings., peter mcpherson\\n§elcome!\\nYou are the mayor of a tiny town  in the forest, where the smaller  creatures of the woods have created  a civilization hidden away from  predators.]</td>\n",
              "    </tr>\n",
              "    <tr>\n",
              "      <th>1</th>\n",
              "      <td>Qué pasa cuando termina la partida</td>\n",
              "      <td>[555 N El Camino Real #A393,  \\nSan Clemente, CA 92672, USA\\nAll rights reserved., Play continues until the end  conditions of the standard game are met., (You no longer take turns naming resources as the \\nMaster Builder.)\\nNote: A player may continue to place resources and name resources as the Master \\nBuilder as long as they have space for the resources in their town, even if it will not be  possible for them to construct any buildings.\\nIf only 1 player is left, that player can continue to name resources as the sole Master \\nBuilder until their town is completed.\\nGame End\\nWhen all players’ towns are completed, the game ends immediately.]</td>\n",
              "      <td>[555 N El Camino Real #A393,  \\nSan Clemente, CA 92672, USA\\nAll rights reserved., Play continues until the end  conditions of the standard game are met., (You no longer take turns naming resources as the \\nMaster Builder.)\\nNote: A player may continue to place resources and name resources as the Master \\nBuilder as long as they have space for the resources in their town, even if it will not be  possible for them to construct any buildings.\\nIf only 1 player is left, that player can continue to name resources as the sole Master \\nBuilder until their town is completed.\\nGame End\\nWhen all players’ towns are completed, the game ends immediately.]</td>\n",
              "      <td>[555 N El Camino Real #A393,  \\nSan Clemente, CA 92672, USA\\nAll rights reserved., Play continues until the end  conditions of the standard game are met., peter mcpherson\\n§elcome!\\nYou are the mayor of a tiny town  in the forest, where the smaller  creatures of the woods have created  a civilization hidden away from  predators.]</td>\n",
              "    </tr>\n",
              "    <tr>\n",
              "      <th>2</th>\n",
              "      <td>Qué significa cada recurso</td>\n",
              "      <td>[555 N El Camino Real #A393,  \\nSan Clemente, CA 92672, USA\\nAll rights reserved., building card anatomy\\nA.\\tCard Title\\nB.\\tBuilding Type\\nC.\\tArt\\nD.\\tResource Build Pattern\\nE.\\tBuilding Ability/Scoring\\n10\\n1 1 b a c d e\\nRound Overview\\n1.\\t The Master Builder names a type of  resource., 4.\\t Sort the remaining Building cards into separate  piles by the symbols on the back.]</td>\n",
              "      <td>[555 N El Camino Real #A393,  \\nSan Clemente, CA 92672, USA\\nAll rights reserved., building card anatomy\\nA.\\tCard Title\\nB.\\tBuilding Type\\nC.\\tArt\\nD.\\tResource Build Pattern\\nE.\\tBuilding Ability/Scoring\\n10\\n1 1 b a c d e\\nRound Overview\\n1.\\t The Master Builder names a type of  resource., 4.\\t Sort the remaining Building cards into separate  piles by the symbols on the back.]</td>\n",
              "      <td>[555 N El Camino Real #A393,  \\nSan Clemente, CA 92672, USA\\nAll rights reserved., building card anatomy\\nA.\\tCard Title\\nB.\\tBuilding Type\\nC.\\tArt\\nD.\\tResource Build Pattern\\nE.\\tBuilding Ability/Scoring\\n10\\n1 1 b a c d e\\nRound Overview\\n1.\\t The Master Builder names a type of  resource., peter mcpherson\\n§elcome!\\nYou are the mayor of a tiny town  in the forest, where the smaller  creatures of the woods have created  a civilization hidden away from  predators.]</td>\n",
              "    </tr>\n",
              "    <tr>\n",
              "      <th>3</th>\n",
              "      <td>Cuántas personas pueden jugar</td>\n",
              "      <td>[Magnus, \\nBrian Neugebauer, Sam LaFleche, Kevin \\nPiala, Jed Moody, Martin Glazer, Emily \\nGarrick, Jon “Ouch!” Luke, and all of the  others who played this game., 6.\\t Draw 1 card from each pile and place them  face-up next to the Cottage card, so they are  visible to all players., Fountain\\nFountains cannot score more than \\n.]</td>\n",
              "      <td>[Magnus, \\nBrian Neugebauer, Sam LaFleche, Kevin \\nPiala, Jed Moody, Martin Glazer, Emily \\nGarrick, Jon “Ouch!” Luke, and all of the  others who played this game., 6.\\t Draw 1 card from each pile and place them  face-up next to the Cottage card, so they are  visible to all players., Fountain\\nFountains cannot score more than \\n.]</td>\n",
              "      <td>[Magnus, \\nBrian Neugebauer, Sam LaFleche, Kevin \\nPiala, Jed Moody, Martin Glazer, Emily \\nGarrick, Jon “Ouch!” Luke, and all of the  others who played this game., 6.\\t Draw 1 card from each pile and place them  face-up next to the Cottage card, so they are  visible to all players., 11.\\tGive each player 1 wooden monument ( \\n ),  which they should keep next to their Monument  card.]</td>\n",
              "    </tr>\n",
              "  </tbody>\n",
              "</table>\n",
              "</div>"
            ],
            "text/plain": [
              "                                Query                                                                                                                                                                                                                                                                                                                                                                                                                                                                                                                                                                                                                                                                    Top Cosine                                                                                                                                                                                                                                                                                                                                                                                                                                                                                                                                                                                                                                                                 Top Euclidean                                                                                                                                                                                                                                                                                                                                                                                                                                                                            Top Manhattan\n",
              "0        Cómo se construyen edificios                                                                                                                                                                                                                                                                    [555 N El Camino Real #A393,  \\nSan Clemente, CA 92672, USA\\nAll rights reserved., After a resource has been placed, players have until  the next resource is named to construct any buildings., A resource can only be used to  construct 1 building — in other  words, every building requires all  of its resources.\\nBuildings do not have to be  constructed as soon as its  resources are in place.]                                                                                                                                                                                                                                                                    [555 N El Camino Real #A393,  \\nSan Clemente, CA 92672, USA\\nAll rights reserved., After a resource has been placed, players have until  the next resource is named to construct any buildings., A resource can only be used to  construct 1 building — in other  words, every building requires all  of its resources.\\nBuildings do not have to be  constructed as soon as its  resources are in place.]                                                                                                        [555 N El Camino Real #A393,  \\nSan Clemente, CA 92672, USA\\nAll rights reserved., After a resource has been placed, players have until  the next resource is named to construct any buildings., peter mcpherson\\n§elcome!\\nYou are the mayor of a tiny town  in the forest, where the smaller  creatures of the woods have created  a civilization hidden away from  predators.]\n",
              "1  Qué pasa cuando termina la partida  [555 N El Camino Real #A393,  \\nSan Clemente, CA 92672, USA\\nAll rights reserved., Play continues until the end  conditions of the standard game are met., (You no longer take turns naming resources as the \\nMaster Builder.)\\nNote: A player may continue to place resources and name resources as the Master \\nBuilder as long as they have space for the resources in their town, even if it will not be  possible for them to construct any buildings.\\nIf only 1 player is left, that player can continue to name resources as the sole Master \\nBuilder until their town is completed.\\nGame End\\nWhen all players’ towns are completed, the game ends immediately.]  [555 N El Camino Real #A393,  \\nSan Clemente, CA 92672, USA\\nAll rights reserved., Play continues until the end  conditions of the standard game are met., (You no longer take turns naming resources as the \\nMaster Builder.)\\nNote: A player may continue to place resources and name resources as the Master \\nBuilder as long as they have space for the resources in their town, even if it will not be  possible for them to construct any buildings.\\nIf only 1 player is left, that player can continue to name resources as the sole Master \\nBuilder until their town is completed.\\nGame End\\nWhen all players’ towns are completed, the game ends immediately.]                                                                                                                                              [555 N El Camino Real #A393,  \\nSan Clemente, CA 92672, USA\\nAll rights reserved., Play continues until the end  conditions of the standard game are met., peter mcpherson\\n§elcome!\\nYou are the mayor of a tiny town  in the forest, where the smaller  creatures of the woods have created  a civilization hidden away from  predators.]\n",
              "2          Qué significa cada recurso                                                                                                                                                                                                                                                                               [555 N El Camino Real #A393,  \\nSan Clemente, CA 92672, USA\\nAll rights reserved., building card anatomy\\nA.\\tCard Title\\nB.\\tBuilding Type\\nC.\\tArt\\nD.\\tResource Build Pattern\\nE.\\tBuilding Ability/Scoring\\n10\\n1 1 b a c d e\\nRound Overview\\n1.\\t The Master Builder names a type of  resource., 4.\\t Sort the remaining Building cards into separate  piles by the symbols on the back.]                                                                                                                                                                                                                                                                               [555 N El Camino Real #A393,  \\nSan Clemente, CA 92672, USA\\nAll rights reserved., building card anatomy\\nA.\\tCard Title\\nB.\\tBuilding Type\\nC.\\tArt\\nD.\\tResource Build Pattern\\nE.\\tBuilding Ability/Scoring\\n10\\n1 1 b a c d e\\nRound Overview\\n1.\\t The Master Builder names a type of  resource., 4.\\t Sort the remaining Building cards into separate  piles by the symbols on the back.]  [555 N El Camino Real #A393,  \\nSan Clemente, CA 92672, USA\\nAll rights reserved., building card anatomy\\nA.\\tCard Title\\nB.\\tBuilding Type\\nC.\\tArt\\nD.\\tResource Build Pattern\\nE.\\tBuilding Ability/Scoring\\n10\\n1 1 b a c d e\\nRound Overview\\n1.\\t The Master Builder names a type of  resource., peter mcpherson\\n§elcome!\\nYou are the mayor of a tiny town  in the forest, where the smaller  creatures of the woods have created  a civilization hidden away from  predators.]\n",
              "3       Cuántas personas pueden jugar                                                                                                                                                                                                                                                                                                                                  [Magnus, \\nBrian Neugebauer, Sam LaFleche, Kevin \\nPiala, Jed Moody, Martin Glazer, Emily \\nGarrick, Jon “Ouch!” Luke, and all of the  others who played this game., 6.\\t Draw 1 card from each pile and place them  face-up next to the Cottage card, so they are  visible to all players., Fountain\\nFountains cannot score more than \\n.]                                                                                                                                                                                                                                                                                                                                  [Magnus, \\nBrian Neugebauer, Sam LaFleche, Kevin \\nPiala, Jed Moody, Martin Glazer, Emily \\nGarrick, Jon “Ouch!” Luke, and all of the  others who played this game., 6.\\t Draw 1 card from each pile and place them  face-up next to the Cottage card, so they are  visible to all players., Fountain\\nFountains cannot score more than \\n.]                                                                                      [Magnus, \\nBrian Neugebauer, Sam LaFleche, Kevin \\nPiala, Jed Moody, Martin Glazer, Emily \\nGarrick, Jon “Ouch!” Luke, and all of the  others who played this game., 6.\\t Draw 1 card from each pile and place them  face-up next to the Cottage card, so they are  visible to all players., 11.\\tGive each player 1 wooden monument ( \\n ),  which they should keep next to their Monument  card.]"
            ]
          },
          "metadata": {},
          "output_type": "display_data"
        }
      ],
      "source": [
        "# librerías \n",
        "!pip install -q sentence-transformers scikit-learn matplotlib pandas\n",
        "\n",
        "from sentence_transformers import SentenceTransformer, util\n",
        "import pandas as pd\n",
        "import numpy as np\n",
        "import matplotlib.pyplot as plt\n",
        "from sklearn.metrics.pairwise import cosine_similarity, euclidean_distances, manhattan_distances\n",
        "from sklearn.decomposition import PCA\n",
        "\n",
        "with open(\"../datos/informacion/manual.txt\", \"r\", encoding=\"utf-8\") as f:\n",
        "    text = f.read()\n",
        "\n",
        "# separamos el texto \n",
        "import re\n",
        "sentences = re.split(r'(?<=[.!?]) +', text)\n",
        "sentences = [s.strip() for s in sentences if len(s.strip()) > 20]\n",
        "\n",
        "# Cargar modelo SBERT\n",
        "model = SentenceTransformer('all-MiniLM-L6-v2')\n",
        "\n",
        "# vectorización\n",
        "sentence_embeddings = model.encode(sentences, convert_to_tensor=True)\n",
        "\n",
        "# oraciones para buscar semanticamente\n",
        "queries = [\n",
        "    \"Cómo se construyen edificios\",\n",
        "    \"Qué pasa cuando termina la partida\",\n",
        "    \"Qué significa cada recurso\",\n",
        "    \"Cuántas personas pueden jugar\",\n",
        "]\n",
        "query_embeddings = model.encode(queries, convert_to_tensor=True)\n",
        "\n",
        "# similitud por métricas\n",
        "cos_sim = util.cos_sim(query_embeddings, sentence_embeddings).cpu().numpy()\n",
        "euc_dist = euclidean_distances(query_embeddings, sentence_embeddings.cpu().numpy())\n",
        "man_dist = manhattan_distances(query_embeddings, sentence_embeddings.cpu().numpy())\n",
        "\n",
        "# resultados por métrica\n",
        "results = []\n",
        "for i, query in enumerate(queries):\n",
        "    top_cos = np.argsort(-cos_sim[i])[:3]\n",
        "    top_euc = np.argsort(euc_dist[i])[:3]\n",
        "    top_man = np.argsort(man_dist[i])[:3]\n",
        "    results.append({\n",
        "        \"Query\": query,\n",
        "        \"Top Cosine\": [sentences[j] for j in top_cos],\n",
        "        \"Top Euclidean\": [sentences[j] for j in top_euc],\n",
        "        \"Top Manhattan\": [sentences[j] for j in top_man]\n",
        "    })\n",
        "\n",
        "df = pd.DataFrame(results)\n",
        "pd.set_option('display.max_colwidth', None)\n",
        "pd.set_option('display.max_columns', None)\n",
        "pd.set_option('display.expand_frame_repr', False)\n",
        "display(df)\n"
      ]
    },
    {
      "cell_type": "code",
      "execution_count": 10,
      "metadata": {},
      "outputs": [
        {
          "data": {
            "image/png": "[encoded data removed]",
            "text/plain": [
              "<Figure size 1000x600 with 1 Axes>"
            ]
          },
          "metadata": {},
          "output_type": "display_data"
        }
      ],
      "source": [
        "# visualización \n",
        "from mpl_toolkits.mplot3d import Axes3D\n",
        "\n",
        "reduced = PCA(n_components=3).fit_transform(\n",
        "    np.vstack((query_embeddings.cpu(), sentence_embeddings.cpu().numpy()[:100]))\n",
        ")\n",
        "labels = [\"Query\"]*len(queries) + [\"Fragment\"]*100\n",
        "df_plot = pd.DataFrame(reduced, columns=[\"x\", \"y\", \"z\"])\n",
        "df_plot[\"label\"] = labels\n",
        "\n",
        "fig = plt.figure(figsize=(10, 6))\n",
        "ax = fig.add_subplot(111, projection='3d')\n",
        "colors = {\"Query\": \"green\", \"Fragment\": \"purple\"}\n",
        "\n",
        "for label in df_plot[\"label\"].unique():\n",
        "    subset = df_plot[df_plot[\"label\"] == label]\n",
        "    ax.scatter(subset[\"x\"], subset[\"y\"], subset[\"z\"], label=label, c=colors[label])\n",
        "\n",
        "ax.set_title(\"Visualización PCA de Fragmentos y Consultas\")\n",
        "ax.legend()\n",
        "plt.show()"
      ]
    },
    {
      "cell_type": "markdown",
      "metadata": {
        "id": "IJXyMWPupbuv"
      },
      "source": [
        "### Ejercicio 3\n",
        "\n",
        "Apoyándose nuevamente en la sección de información. Recoge un texto extenso extraído,\n",
        "divídelos en fragmentos, luego realiza extracciones de sustantivos (POS) y categoriza estos\n",
        "sustantivos (NER), a continuación realiza una búsqueda de similitud filtrando por\n",
        "sustantivos, compara las distintas técnicas de distancias vistas en clases, elija la mejor y\n",
        "justifique la razón por la que esta técnica se ajusta para este tipo de búsquedas.\n"
      ]
    },
    {
      "cell_type": "code",
      "execution_count": null,
      "metadata": {
        "colab": {
          "base_uri": "https://localhost:8080/"
        },
        "id": "NbdlEqIJpfww",
        "outputId": "0044a771-52f8-4acd-e666-f422942c2218"
      },
      "outputs": [
        {
          "name": "stdout",
          "output_type": "stream",
          "text": [
            "183\n",
            "\n",
            "- Entidades\n",
            "1: [('GAME', 'ORG'), ('PETER MCPHERSON', 'PERSON'), ('1-6', 'CARDINAL'), ('AGES 14', 'DATE'), ('4x4', 'CARDINAL'), ('Resource', 'ORG')]\n",
            "2: []\n",
            "3: [('-1', 'ORG')]\n",
            "4: [('peter mcpherson\\n§', 'PERSON')]\n",
            "5: []\n",
            "6: []\n",
            "7: []\n",
            "8: []\n",
            "9: [('1', 'CARDINAL'), ('6', 'CARDINAL'), ('25', 'CARDINAL'), ('15', 'CARDINAL'), ('15', 'CARDINAL'), ('Resource', 'ORG'), ('1 scorepad\\n•', 'QUANTITY'), ('126', 'CARDINAL'), ('1', 'CARDINAL'), ('6', 'CARDINAL'), ('90', 'CARDINAL'), ('1', 'CARDINAL')]\n",
            "10: [('2', 'CARDINAL'), ('Resource', 'ORG'), ('the Town Hall', 'FAC'), ('Solo', 'PRODUCT')]\n"
          ]
        }
      ],
      "source": [
        "import spacy\n",
        "import numpy as np\n",
        "from sklearn.feature_extraction.text import TfidfVectorizer\n",
        "from sklearn.metrics.pairwise import cosine_similarity\n",
        "\n",
        "# cargar modelo de spacy\n",
        "nlp = spacy.load(\"en_core_web_sm\")\n",
        "\n",
        "# cargamos el texto a analizar\n",
        "with open(\"../datos/informacion/manual.txt\", \"r\", encoding=\"utf-8\") as f:\n",
        "    texto = f.read()\n",
        "\n",
        "# separamos las oraciones por spacy\n",
        "doc = nlp(texto)\n",
        "oraciones = [sent.text.strip() for sent in doc.sents if len(sent.text.strip()) > 20]\n",
        "\n",
        "# extraer sustantivos y entidades por oración\n",
        "sustantivos_por_oracion = []\n",
        "entidades_por_oracion = []\n",
        "\n",
        "for sent in oraciones:\n",
        "    doc_sent = nlp(sent)\n",
        "    sustantivos = [token.text for token in doc_sent if token.pos_ == \"NOUN\"]\n",
        "    entidades = [(ent.text, ent.label_) for ent in doc_sent.ents]\n",
        "    sustantivos_por_oracion.append(sustantivos)\n",
        "    entidades_por_oracion.append(entidades)\n",
        "\n",
        "# filtrar oraciones que tengan sustantivos\n",
        "oraciones_filtradas = []\n",
        "sustantivos_filtrados = []\n",
        "\n",
        "for oracion, sustantivos in zip(oraciones, sustantivos_por_oracion):\n",
        "    if sustantivos:\n",
        "        oraciones_filtradas.append(oracion)\n",
        "        sustantivos_filtrados.append(sustantivos)\n",
        "\n",
        "print(f\"{len(oraciones)}\")\n",
        "\n",
        "print(\"\\n- Entidades\")\n",
        "for i in range(10):\n",
        "    print(f\"{i+1}: {entidades_por_oracion[i]}\")\n",
        "\n"
      ]
    },
    {
      "cell_type": "code",
      "execution_count": null,
      "metadata": {
        "colab": {
          "base_uri": "https://localhost:8080/"
        },
        "id": "vgEA4jVOtnPN",
        "outputId": "222d1508-5d6b-49b9-e678-6d37a368a17f"
      },
      "outputs": [],
      "source": [
        "# vectorizar con TF-IDF \n",
        "sustantivos_texto = [\" \".join(s) for s in sustantivos_filtrados]\n",
        "vectorizer = TfidfVectorizer()\n",
        "tfidf_matrix = vectorizer.fit_transform(sustantivos_texto)\n",
        "\n",
        "idx_consulta = 0\n",
        "consulta_vector = tfidf_matrix[idx_consulta]\n",
        "consulta_texto = sustantivos_texto[idx_consulta]\n"
      ]
    },
    {
      "cell_type": "code",
      "execution_count": null,
      "metadata": {},
      "outputs": [
        {
          "name": "stdout",
          "output_type": "stream",
          "text": [
            "\n",
            "3 oraciones similares por COSENO:\n",
            "- 86: Additional Rules\n",
            "•\tResource cubes and buildings are unlimited.\n",
            "- 116: The game ends as normal, when your town is  completed (your town is filled with resources  and you cannot or choose not to construct any  buildings).\n",
            "- 72: Players may construct Cottages before or after constructing \n",
            "  buildings, but unfed Cottages at game end score 0 \n",
            "Completing Your Town\n",
            "When your town is filled with resources and you cannot (or choose not to)  construct any buildings, your town is completed.\n",
            "\n",
            "3 oraciones similares por JACCARD:\n",
            "- 86: Additional Rules\n",
            "•\tResource cubes and buildings are unlimited.\n",
            "- 113: You choose to place  any 1 of the 3 resources shown in your town and  construct buildings as normal.\n",
            "- 116: The game ends as normal, when your town is  completed (your town is filled with resources  and you cannot or choose not to construct any  buildings).\n",
            "\n",
            "3 oraciones similares por LEVENSHTEIN:\n",
            "- 116: The game ends as normal, when your town is  completed (your town is filled with resources  and you cannot or choose not to construct any  buildings).\n",
            "- 62: Building  cards are not replaced when  players construct buildings.\n",
            "- 45: After a resource has been placed, players have until  the next resource is named to construct any buildings.\n"
          ]
        }
      ],
      "source": [
        "# coseno\n",
        "cos_sim = cosine_similarity(consulta_vector, tfidf_matrix)[0]\n",
        "top_cos = np.argsort(-cos_sim)[1:4]\n",
        "\n",
        "print(\"\\n3 oraciones similares por COSENO:\")\n",
        "for i in top_cos:\n",
        "    print(f\"- {i}: {oraciones_filtradas[i]}\", flush=True)\n",
        "\n",
        "# jaccard\n",
        "def jaccard_similarity(set_a, set_b):\n",
        "    intersection = set_a.intersection(set_b)\n",
        "    union = set_a.union(set_b)\n",
        "    return len(intersection) / len(union) if union else 0\n",
        "\n",
        "consulta_set = set(consulta_texto.split())\n",
        "sim_jaccard = [\n",
        "    jaccard_similarity(consulta_set, set(txt.split()))\n",
        "    for txt in sustantivos_texto\n",
        "]\n",
        "top_jaccard = np.argsort(sim_jaccard)[-4:-1][::-1]\n",
        "\n",
        "print(\"\\n3 oraciones similares por JACCARD:\")\n",
        "for i in top_jaccard:\n",
        "    print(f\"- {i}: {oraciones_filtradas[i]}\", flush=True)\n",
        "\n",
        "#  Levnstein\n",
        "dist_lev = [Levenshtein.distance(consulta_texto, txt) for txt in sustantivos_texto]\n",
        "top_lev = np.argsort(dist_lev)[1:4]\n",
        "\n",
        "print(\"\\n3 oraciones similares por LEVENSHTEIN:\")\n",
        "for i in top_lev:\n",
        "    print(f\"- {i}: {oraciones_filtradas[i]}\", flush=True)"
      ]
    },
    {
      "cell_type": "markdown",
      "metadata": {
        "id": "Aba-rHqR2n6V"
      },
      "source": [
        "### Ejercicio 4\n",
        "Mediante detección de idioma, separar los archivos en distintos lenguajes y guardar esa\n",
        "información en un dataframe..\n"
      ]
    },
    {
      "cell_type": "code",
      "execution_count": 21,
      "metadata": {
        "id": "y-rhU3_L2vNt"
      },
      "outputs": [
        {
          "name": "stdout",
          "output_type": "stream",
          "text": [
            "Collecting langdetect\n",
            "  Downloading langdetect-1.0.9.tar.gz (981 kB)\n",
            "     ---------------------------------------- 0.0/981.5 kB ? eta -:--:--\n",
            "      ------------------------------------ 20.5/981.5 kB 640.0 kB/s eta 0:00:02\n",
            "     -- ---------------------------------- 61.4/981.5 kB 656.4 kB/s eta 0:00:02\n",
            "     --------- ---------------------------- 235.5/981.5 kB 1.8 MB/s eta 0:00:01\n",
            "     -------------------------------------  972.8/981.5 kB 5.6 MB/s eta 0:00:01\n",
            "     -------------------------------------- 981.5/981.5 kB 5.6 MB/s eta 0:00:00\n",
            "  Installing build dependencies: started\n",
            "  Installing build dependencies: finished with status 'done'\n",
            "  Getting requirements to build wheel: started\n",
            "  Getting requirements to build wheel: finished with status 'done'\n",
            "  Preparing metadata (pyproject.toml): started\n",
            "  Preparing metadata (pyproject.toml): finished with status 'done'\n",
            "Requirement already satisfied: six in c:\\users\\marya\\appdata\\local\\packages\\pythonsoftwarefoundation.python.3.11_qbz5n2kfra8p0\\localcache\\local-packages\\python311\\site-packages (from langdetect) (1.17.0)\n",
            "Building wheels for collected packages: langdetect\n",
            "  Building wheel for langdetect (pyproject.toml): started\n",
            "  Building wheel for langdetect (pyproject.toml): finished with status 'done'\n",
            "  Created wheel for langdetect: filename=langdetect-1.0.9-py3-none-any.whl size=993364 sha256=4941380d7356766d4bc08b3708f30bbf1233dd0a096e5d8d7c15ad382f527122\n",
            "  Stored in directory: c:\\users\\marya\\appdata\\local\\packages\\pythonsoftwarefoundation.python.3.11_qbz5n2kfra8p0\\localcache\\local\\pip\\cache\\wheels\\0a\\f2\\b2\\e5ca405801e05eb7c8ed5b3b4bcf1fcabcd6272c167640072e\n",
            "Successfully built langdetect\n",
            "Installing collected packages: langdetect\n",
            "Successfully installed langdetect-1.0.9\n"
          ]
        },
        {
          "name": "stderr",
          "output_type": "stream",
          "text": [
            "\n",
            "[notice] A new release of pip is available: 24.0 -> 25.1.1\n",
            "[notice] To update, run: C:\\Users\\marya\\AppData\\Local\\Microsoft\\WindowsApps\\PythonSoftwareFoundation.Python.3.11_qbz5n2kfra8p0\\python.exe -m pip install --upgrade pip\n"
          ]
        }
      ],
      "source": [
        "!pip install langdetect"
      ]
    },
    {
      "cell_type": "code",
      "execution_count": null,
      "metadata": {
        "id": "LVq719qt7kyy"
      },
      "outputs": [],
      "source": [
        "import os\n",
        "import pandas as pd\n",
        "from langdetect import detect, DetectorFactory\n",
        "DetectorFactory.seed = 0  "
      ]
    },
    {
      "cell_type": "code",
      "execution_count": null,
      "metadata": {
        "id": "bD0QIetz7k7M"
      },
      "outputs": [],
      "source": [
        "carpeta = '../datos/informacion'  "
      ]
    },
    {
      "cell_type": "code",
      "execution_count": 24,
      "metadata": {
        "id": "_sHGUK0R7lDG"
      },
      "outputs": [],
      "source": [
        "datos = []\n",
        "\n",
        "for archivo in os.listdir(carpeta):\n",
        "    if archivo.endswith('.txt'):\n",
        "        ruta_archivo = os.path.join(carpeta, archivo)\n",
        "        with open(ruta_archivo, 'r', encoding='utf-8') as f:\n",
        "            contenido = f.read()\n",
        "            try:\n",
        "                idioma = detect(contenido)\n",
        "            except:\n",
        "                idioma = 'desconocido'\n",
        "            datos.append({'archivo': archivo, 'idioma': idioma})"
      ]
    },
    {
      "cell_type": "code",
      "execution_count": 25,
      "metadata": {
        "id": "oTxhTaw47vwd"
      },
      "outputs": [
        {
          "name": "stdout",
          "output_type": "stream",
          "text": [
            "              archivo idioma\n",
            "0          manual.txt     en\n",
            "1      review_bgg.txt     es\n",
            "2  review_externa.txt     es\n",
            "3          video1.txt     nl\n",
            "4          video2.txt     en\n",
            "5          video3.txt     en\n",
            "6          video4.txt     es\n"
          ]
        }
      ],
      "source": [
        "df_idiomas = pd.DataFrame(datos)\n",
        "print(df_idiomas)"
      ]
    },
    {
      "cell_type": "markdown",
      "metadata": {},
      "source": [
        "### Ejercicio 5\n",
        "En el caso de las reseñas realizadas por usuarios, utiliza análisis de sentimientos con\n",
        "modelos pre entrenados y guarda la clasificación predecida de cada reseña.\n",
        "Luego, crea un sistema de búsquedas por similitud semántica y que permita filtrar por\n",
        "sentimiento para obtener."
      ]
    },
    {
      "cell_type": "code",
      "execution_count": null,
      "metadata": {},
      "outputs": [
        {
          "name": "stderr",
          "output_type": "stream",
          "text": [
            "Device set to use cpu\n"
          ]
        },
        {
          "data": {
            "text/html": [
              "<div>\n",
              "<style scoped>\n",
              "    .dataframe tbody tr th:only-of-type {\n",
              "        vertical-align: middle;\n",
              "    }\n",
              "\n",
              "    .dataframe tbody tr th {\n",
              "        vertical-align: top;\n",
              "    }\n",
              "\n",
              "    .dataframe thead th {\n",
              "        text-align: right;\n",
              "    }\n",
              "</style>\n",
              "<table border=\"1\" class=\"dataframe\">\n",
              "  <thead>\n",
              "    <tr style=\"text-align: right;\">\n",
              "      <th></th>\n",
              "      <th>texto</th>\n",
              "      <th>sentimiento_crudo</th>\n",
              "      <th>confianza</th>\n",
              "      <th>sentimiento</th>\n",
              "    </tr>\n",
              "  </thead>\n",
              "  <tbody>\n",
              "    <tr>\n",
              "      <th>0</th>\n",
              "      <td>¡Ah, los juegos de mesa! Solían ser los mismos de siempre, ¿verdad? Monopoly, Clue – divertidos por un tiempo, pero luego… meh. Luego llegó Carcassonne. Ese juego fue la droga de entrada, el que me mostró que los juegos de mesa podían ser más que solo tirar dados sin pensar. Pero no fue hasta que entré a Millennium Games (mi tienda local) que me di cuenta de lo PROFUNDO que era el agujero del conejo.</td>\n",
              "      <td>1 star</td>\n",
              "      <td>0.300246</td>\n",
              "      <td>negativo</td>\n",
              "    </tr>\n",
              "    <tr>\n",
              "      <th>1</th>\n",
              "      <td>Imagina esto: ¡una tienda dedicada completamente a los juegos de mesa! Paredes llenas de cajas, desbordando posibilidades. Aventuras cooperativas para el trabajo en equipo, batallas épicas por la gloria, mundos fantásticos que suplicaban ser explorados. Era abrumador de la mejor manera posible. Aquí estaba yo, un novato en juegos de mesa, rodeado de un universo que nunca supe que existía.</td>\n",
              "      <td>5 stars</td>\n",
              "      <td>0.665199</td>\n",
              "      <td>positivo</td>\n",
              "    </tr>\n",
              "    <tr>\n",
              "      <th>2</th>\n",
              "      <td>Sintiendo un poco de confusión, un amable empleado de la tienda vino al rescate. Olvídate de los discursos de ventas, esta persona realmente quería ayudarnos a encontrar un juego que amaríamos. Ahí es donde entra Tiny Towns. La portada de la caja puede que no haya gritado \"clásico instantáneo\", pero la pasión de este empleado era contagiosa. ¡Incluso ofrecieron una garantía de devolución de dinero! (Alerta de spoiler: nunca la necesité).</td>\n",
              "      <td>1 star</td>\n",
              "      <td>0.622779</td>\n",
              "      <td>negativo</td>\n",
              "    </tr>\n",
              "    <tr>\n",
              "      <th>3</th>\n",
              "      <td>Avancemos hasta hoy, y Tiny Towns sigue siendo un elemento básico en la familia. ¡Más de 100 juegos en más de 4 años, y nunca se hace viejo! Es la mezcla perfecta de estrategia y rompecabezas, una elección fantástica tanto para nuevos jugadores como para jugadores experimentados. Además, ¡el arte del juego es ridículamente lindo!</td>\n",
              "      <td>5 stars</td>\n",
              "      <td>0.906190</td>\n",
              "      <td>positivo</td>\n",
              "    </tr>\n",
              "    <tr>\n",
              "      <th>4</th>\n",
              "      <td>Tiny Towns es un juego para 1-6 jugadores diseñado por y publicado por Alderac Entertainment Group (AEG). Nunca lo he jugado en solitario, pero lo he disfrutado como juego de cita y hasta con seis jugadores. Siento que este juego funciona bien en cualquier cantidad de jugadores.</td>\n",
              "      <td>4 stars</td>\n",
              "      <td>0.493742</td>\n",
              "      <td>positivo</td>\n",
              "    </tr>\n",
              "  </tbody>\n",
              "</table>\n",
              "</div>"
            ],
            "text/plain": [
              "                                                                                                                                                                                                                                                                                                                                                                                                                                                       texto sentimiento_crudo  confianza sentimiento\n",
              "0                                        ¡Ah, los juegos de mesa! Solían ser los mismos de siempre, ¿verdad? Monopoly, Clue – divertidos por un tiempo, pero luego… meh. Luego llegó Carcassonne. Ese juego fue la droga de entrada, el que me mostró que los juegos de mesa podían ser más que solo tirar dados sin pensar. Pero no fue hasta que entré a Millennium Games (mi tienda local) que me di cuenta de lo PROFUNDO que era el agujero del conejo.            1 star   0.300246    negativo\n",
              "1                                                    Imagina esto: ¡una tienda dedicada completamente a los juegos de mesa! Paredes llenas de cajas, desbordando posibilidades. Aventuras cooperativas para el trabajo en equipo, batallas épicas por la gloria, mundos fantásticos que suplicaban ser explorados. Era abrumador de la mejor manera posible. Aquí estaba yo, un novato en juegos de mesa, rodeado de un universo que nunca supe que existía.           5 stars   0.665199    positivo\n",
              "2  Sintiendo un poco de confusión, un amable empleado de la tienda vino al rescate. Olvídate de los discursos de ventas, esta persona realmente quería ayudarnos a encontrar un juego que amaríamos. Ahí es donde entra Tiny Towns. La portada de la caja puede que no haya gritado \"clásico instantáneo\", pero la pasión de este empleado era contagiosa. ¡Incluso ofrecieron una garantía de devolución de dinero! (Alerta de spoiler: nunca la necesité).            1 star   0.622779    negativo\n",
              "3                                                                                                                Avancemos hasta hoy, y Tiny Towns sigue siendo un elemento básico en la familia. ¡Más de 100 juegos en más de 4 años, y nunca se hace viejo! Es la mezcla perfecta de estrategia y rompecabezas, una elección fantástica tanto para nuevos jugadores como para jugadores experimentados. Además, ¡el arte del juego es ridículamente lindo!           5 stars   0.906190    positivo\n",
              "4                                                                                                                                                                    Tiny Towns es un juego para 1-6 jugadores diseñado por y publicado por Alderac Entertainment Group (AEG). Nunca lo he jugado en solitario, pero lo he disfrutado como juego de cita y hasta con seis jugadores. Siento que este juego funciona bien en cualquier cantidad de jugadores.           4 stars   0.493742    positivo"
            ]
          },
          "metadata": {},
          "output_type": "display_data"
        }
      ],
      "source": [
        "#!pip install transformers\n",
        "\n",
        "from transformers import BertTokenizer, BertForSequenceClassification, pipeline\n",
        "import pandas as pd\n",
        "\n",
        "# cargar modelo preentrenado\n",
        "model_name = \"nlptown/bert-base-multilingual-uncased-sentiment\"\n",
        "tokenizer = BertTokenizer.from_pretrained(model_name)\n",
        "model = BertForSequenceClassification.from_pretrained(model_name)\n",
        "\n",
        "# pipeline de análisis de sentimiento\n",
        "nlp = pipeline(\"sentiment-analysis\", model=model, tokenizer=tokenizer)\n",
        "\n",
        "# cargar reseñas\n",
        "with open(\"../datos/informacion/review_bgg.txt\", \"r\", encoding=\"utf-8\") as f:\n",
        "    lineas = [linea.strip() for linea in f if len(linea.strip()) > 15]\n",
        "\n",
        "# análisis de sentimiento\n",
        "resultados = []\n",
        "for linea in lineas:\n",
        "    resultado = nlp(linea)[0]\n",
        "    resultados.append({\n",
        "        \"texto\": linea,\n",
        "        \"sentimiento_crudo\": resultado[\"label\"],\n",
        "        \"confianza\": resultado[\"score\"]\n",
        "    })\n",
        "\n",
        "# dataframe\n",
        "df = pd.DataFrame(resultados)\n",
        "\n",
        "# campo de sentimiento a 'positivo', 'neutral', 'negativo'\n",
        "def clasificar(label):\n",
        "    estrellas = int(label[0])\n",
        "    if estrellas <= 2:\n",
        "        return \"negativo\"\n",
        "    elif estrellas == 3:\n",
        "        return \"neutral\"\n",
        "    else:\n",
        "        return \"positivo\"\n",
        "\n",
        "df[\"sentimiento\"] = df[\"sentimiento_crudo\"].apply(clasificar)\n",
        "display(df.head())\n"
      ]
    },
    {
      "cell_type": "code",
      "execution_count": 2,
      "metadata": {},
      "outputs": [
        {
          "name": "stderr",
          "output_type": "stream",
          "text": [
            "C:\\Users\\marya\\AppData\\Local\\Packages\\PythonSoftwareFoundation.Python.3.11_qbz5n2kfra8p0\\LocalCache\\local-packages\\Python311\\site-packages\\huggingface_hub\\file_download.py:143: UserWarning: `huggingface_hub` cache-system uses symlinks by default to efficiently store duplicated files but your machine does not support them in C:\\Users\\marya\\.cache\\huggingface\\hub\\models--sentence-transformers--msmarco-MiniLM-L-6-v3. Caching files will still work but in a degraded version that might require more space on your disk. This warning can be disabled by setting the `HF_HUB_DISABLE_SYMLINKS_WARNING` environment variable. For more details, see https://huggingface.co/docs/huggingface_hub/how-to-cache#limitations.\n",
            "To support symlinks on Windows, you either need to activate Developer Mode or to run Python as an administrator. In order to activate developer mode, see this article: https://docs.microsoft.com/en-us/windows/apps/get-started/enable-your-device-for-development\n",
            "  warnings.warn(message)\n",
            "Xet Storage is enabled for this repo, but the 'hf_xet' package is not installed. Falling back to regular HTTP download. For better performance, install the package with: `pip install huggingface_hub[hf_xet]` or `pip install hf_xet`\n"
          ]
        }
      ],
      "source": [
        "# !pip install sentence-transformers\n",
        "\n",
        "from sentence_transformers import SentenceTransformer, util\n",
        "\n",
        "# Cargar modelo de embeddings\n",
        "modelo = SentenceTransformer('msmarco-MiniLM-L-6-v3')\n",
        "\n",
        "# Generar embeddings para todas las reseñas\n",
        "df[\"embedding\"] = df[\"texto\"].apply(lambda x: modelo.encode(x))\n"
      ]
    },
    {
      "cell_type": "code",
      "execution_count": null,
      "metadata": {
        "id": "OignCRVO7v4T"
      },
      "outputs": [
        {
          "name": "stdout",
          "output_type": "stream",
          "text": [
            "Resultado 1:\n",
            "Similitud: 0.4177\n",
            "Texto: ¡Ah, los juegos de mesa! Solían ser los mismos de siempre, ¿verdad? Monopoly, Clue – divertidos por un tiempo, pero luego… meh. Luego llegó Carcassonne. Ese juego fue la droga de entrada, el que me mostró que los juegos de mesa podían ser más que solo tirar dados sin pensar. Pero no fue hasta que entré a Millennium Games (mi tienda local) que me di cuenta de lo PROFUNDO que era el agujero del conejo.\n",
            "\n",
            "Resultado 2:\n",
            "Similitud: 0.3530\n",
            "Texto: **Puntuación y ganar**: El juego termina cuando no se pueden construir más edificios o tomar más recursos. Los jugadores puntúan puntos por edificios completados basados en las cartas de edificios. Resta un punto por cada espacio no utilizado en tus tableros. ¡El jugador con más puntos gana el juego!\n",
            "\n",
            "Resultado 3:\n",
            "Similitud: 0.3209\n",
            "Texto: Sintiendo un poco de confusión, un amable empleado de la tienda vino al rescate. Olvídate de los discursos de ventas, esta persona realmente quería ayudarnos a encontrar un juego que amaríamos. Ahí es donde entra Tiny Towns. La portada de la caja puede que no haya gritado \"clásico instantáneo\", pero la pasión de este empleado era contagiosa. ¡Incluso ofrecieron una garantía de devolución de dinero! (Alerta de spoiler: nunca la necesité).\n",
            "\n"
          ]
        }
      ],
      "source": [
        "# consulta y filtro\n",
        "consulta = \"me parece un juego muy aburrido\"\n",
        "sentimiento_deseado = \"negativo\"\n",
        "\n",
        "#filtrar por sentimiento\n",
        "df_filtrado = df[df[\"sentimiento\"] == sentimiento_deseado].reset_index(drop=True)\n",
        "\n",
        "# embeddings del corpus filtrado\n",
        "corpus_embeddings = list(df_filtrado[\"embedding\"])\n",
        "\n",
        "# embedding de la consulta\n",
        "embedding_consulta = modelo.encode(consulta)\n",
        "\n",
        "embedding_consulta = modelo.encode(consulta, convert_to_tensor=True)\n",
        "corpus_embeddings = modelo.encode(df_filtrado[\"texto\"].tolist(), convert_to_tensor=True)\n",
        "\n",
        "# calcular similitud\n",
        "resultados = util.semantic_search(embedding_consulta, corpus_embeddings, top_k=3)[0]\n",
        "\n",
        "# resultados\n",
        "for i, r in enumerate(resultados):\n",
        "    idx = r[\"corpus_id\"]\n",
        "    print(f\"Resultado {i+1}:\")\n",
        "    print(f\"Similitud: {r['score']:.4f}\")\n",
        "    print(f\"Texto: {df_filtrado.iloc[idx]['texto']}\")\n",
        "    print()\n"
      ]
    },
    {
      "cell_type": "markdown",
      "metadata": {},
      "source": [
        "### Ejercicio 6\n",
        "Crea un set de datos de consultas (más de 300 preguntas en total) y categorizalas entre la\n",
        "fuente de datos que pueda llegar a responder esa pregunta entre estadísticas,\n",
        "información y relaciones.\n",
        "\n",
        "Por ejemplo:\n",
        "- ¿Cómo gano en el ajedrez? -> Información\n",
        "- ¿Quién trabajó para el ta-te-ti? -> Relaciones\n",
        "- ¿Qué puntaje tienen las damas? -> Estadística\n",
        "\n",
        "A continuación, transforma esas consultas en vectores y entrena un modelo de clasificación\n",
        "(a gusto del estudiante) en donde pueda predecir la categoría a través de la consulta\n",
        "ingresada.\n",
        "Agregar métricas y análisis durante todo el desarrollo, trabaje en varios modelos y\n",
        "comparelos."
      ]
    },
    {
      "cell_type": "code",
      "execution_count": null,
      "metadata": {},
      "outputs": [
        {
          "name": "stdout",
          "output_type": "stream",
          "text": [
            "\n",
            "--- Modelo 1: Multinomial Naive Bayes ---\n",
            "Accuracy: 0.9864864864864865\n",
            "Matriz de Confusión:\n",
            "[[25  0  0]\n",
            " [ 1 23  0]\n",
            " [ 0  0 25]]\n",
            "Reporte:\n",
            "              precision    recall  f1-score   support\n",
            "\n",
            "estadisticas       0.96      1.00      0.98        25\n",
            " informacion       1.00      0.96      0.98        24\n",
            "  relaciones       1.00      1.00      1.00        25\n",
            "\n",
            "    accuracy                           0.99        74\n",
            "   macro avg       0.99      0.99      0.99        74\n",
            "weighted avg       0.99      0.99      0.99        74\n",
            "\n",
            "\n",
            "--- Modelo 2: Regresión Logística ---\n",
            "Accuracy: 1.0\n",
            "Matriz de Confusión:\n",
            "[[25  0  0]\n",
            " [ 0 24  0]\n",
            " [ 0  0 25]]\n",
            "Reporte:\n",
            "              precision    recall  f1-score   support\n",
            "\n",
            "estadisticas       1.00      1.00      1.00        25\n",
            " informacion       1.00      1.00      1.00        24\n",
            "  relaciones       1.00      1.00      1.00        25\n",
            "\n",
            "    accuracy                           1.00        74\n",
            "   macro avg       1.00      1.00      1.00        74\n",
            "weighted avg       1.00      1.00      1.00        74\n",
            "\n"
          ]
        }
      ],
      "source": [
        "# LIBRERÍAS\n",
        "import pandas as pd\n",
        "from sklearn.model_selection import train_test_split\n",
        "from sklearn.feature_extraction.text import TfidfVectorizer\n",
        "from sklearn.naive_bayes import MultinomialNB\n",
        "from sklearn.linear_model import LogisticRegression\n",
        "from sklearn.metrics import classification_report, confusion_matrix, accuracy_score\n",
        "\n",
        "# cargamos preguntas\n",
        "df = pd.read_csv(\"preguntas_clasificadas.csv\")  \n",
        "\n",
        "# variables\n",
        "X = df[\"pregunta\"]\n",
        "y = df[\"categoria\"]\n",
        "\n",
        "# división del dataset\n",
        "X_train, X_test, y_train, y_test = train_test_split(X, y, test_size=0.2, stratify=y, random_state=42)\n",
        "\n",
        "# vectorización\n",
        "vectorizer = TfidfVectorizer()\n",
        "X_train_tfidf = vectorizer.fit_transform(X_train)\n",
        "X_test_tfidf = vectorizer.transform(X_test)\n",
        "\n",
        "# modelo multinomial Naive Bayes\n",
        "modelo_nb = MultinomialNB()\n",
        "modelo_nb.fit(X_train_tfidf, y_train)\n",
        "y_pred_nb = modelo_nb.predict(X_test_tfidf)\n",
        "\n",
        "# modelo logistic regression\n",
        "modelo_log = LogisticRegression(max_iter=1000)\n",
        "modelo_log.fit(X_train_tfidf, y_train)\n",
        "y_pred_log = modelo_log.predict(X_test_tfidf)\n",
        "\n",
        "# evaluación y comparación de modelos\n",
        "print(\"Multinomial Naive Bayes\")\n",
        "print(\"Accuracy:\", accuracy_score(y_test, y_pred_nb))\n",
        "print(\"Matriz de Confusión:\")\n",
        "print(confusion_matrix(y_test, y_pred_nb))\n",
        "print(classification_report(y_test, y_pred_nb))\n",
        "\n",
        "print(\"Regresión Logística\")\n",
        "print(\"Accuracy:\", accuracy_score(y_test, y_pred_log))\n",
        "print(\"Matriz de Confusión:\")\n",
        "print(confusion_matrix(y_test, y_pred_log))\n",
        "print(classification_report(y_test, y_pred_log))\n"
      ]
    }
  ],
  "metadata": {
    "colab": {
      "provenance": []
    },
    "kernelspec": {
      "display_name": "Python 3",
      "name": "python3"
    },
    "language_info": {
      "codemirror_mode": {
        "name": "ipython",
        "version": 3
      },
      "file_extension": ".py",
      "mimetype": "text/x-python",
      "name": "python",
      "nbconvert_exporter": "python",
      "pygments_lexer": "ipython3",
      "version": "3.11.9"
    }
  },
  "nbformat": 4,
  "nbformat_minor": 0
}
