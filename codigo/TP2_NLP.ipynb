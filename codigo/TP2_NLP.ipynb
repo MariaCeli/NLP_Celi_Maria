{
  "cells": [
    {
      "cell_type": "markdown",
      "metadata": {
        "id": "SS0ng5y12z1a"
      },
      "source": [
        "### Ejercicio 1\n",
        "---"
      ]
    },
    {
      "cell_type": "markdown",
      "metadata": {
        "id": "orfJgvfhgR86"
      },
      "source": [
        "### Ejercicio 2\n",
        " Apoyándose en la sección de información. Separa en fragmentos un texto extenso extraído\n",
        " y vectoriza cada fragmento con alguno de los modelos de embedding vistos en clases.\n",
        "Luego realiza un análisis de similitud de texto ingresando varias frases a buscar\n",
        "semánticamente, compare distintas técnicas de distancias vistas en clases, elija la mejor y\n",
        "justifique la razón por la que esa técnica se ajusta para este tipo de búsquedas.\n",
        "OPCIONAL: Visualizar en 3D aplicando PCA o t-SNE la ubicación de los fragmentos y la\n",
        "query ingresada vectorizada en el espacio. Realizar una observación sobre la visualización."
      ]
    },
    {
      "cell_type": "code",
      "execution_count": 6,
      "metadata": {
        "colab": {
          "base_uri": "https://localhost:8080/",
          "height": 1270
        },
        "id": "sUKZSWvvfUl5",
        "outputId": "7f1f11a6-4652-4828-dba7-107212aefd38"
      },
      "outputs": [
        {
          "name": "stderr",
          "output_type": "stream",
          "text": [
            "\n",
            "[notice] A new release of pip is available: 24.0 -> 25.1.1\n",
            "[notice] To update, run: C:\\Users\\marya\\AppData\\Local\\Microsoft\\WindowsApps\\PythonSoftwareFoundation.Python.3.11_qbz5n2kfra8p0\\python.exe -m pip install --upgrade pip\n"
          ]
        },
        {
          "data": {
            "text/html": [
              "<div>\n",
              "<style scoped>\n",
              "    .dataframe tbody tr th:only-of-type {\n",
              "        vertical-align: middle;\n",
              "    }\n",
              "\n",
              "    .dataframe tbody tr th {\n",
              "        vertical-align: top;\n",
              "    }\n",
              "\n",
              "    .dataframe thead th {\n",
              "        text-align: right;\n",
              "    }\n",
              "</style>\n",
              "<table border=\"1\" class=\"dataframe\">\n",
              "  <thead>\n",
              "    <tr style=\"text-align: right;\">\n",
              "      <th></th>\n",
              "      <th>Query</th>\n",
              "      <th>Top Cosine</th>\n",
              "      <th>Top Euclidean</th>\n",
              "      <th>Top Manhattan</th>\n",
              "    </tr>\n",
              "  </thead>\n",
              "  <tbody>\n",
              "    <tr>\n",
              "      <th>0</th>\n",
              "      <td>Cómo se construyen edificios</td>\n",
              "      <td>[555 N El Camino Real #A393,  \\nSan Clemente, ...</td>\n",
              "      <td>[555 N El Camino Real #A393,  \\nSan Clemente, ...</td>\n",
              "      <td>[555 N El Camino Real #A393,  \\nSan Clemente, ...</td>\n",
              "    </tr>\n",
              "    <tr>\n",
              "      <th>1</th>\n",
              "      <td>Qué pasa cuando termina la partida</td>\n",
              "      <td>[555 N El Camino Real #A393,  \\nSan Clemente, ...</td>\n",
              "      <td>[555 N El Camino Real #A393,  \\nSan Clemente, ...</td>\n",
              "      <td>[555 N El Camino Real #A393,  \\nSan Clemente, ...</td>\n",
              "    </tr>\n",
              "    <tr>\n",
              "      <th>2</th>\n",
              "      <td>Qué significa cada recurso</td>\n",
              "      <td>[555 N El Camino Real #A393,  \\nSan Clemente, ...</td>\n",
              "      <td>[555 N El Camino Real #A393,  \\nSan Clemente, ...</td>\n",
              "      <td>[555 N El Camino Real #A393,  \\nSan Clemente, ...</td>\n",
              "    </tr>\n",
              "    <tr>\n",
              "      <th>3</th>\n",
              "      <td>Qué pasa si no puedo construir un edificio</td>\n",
              "      <td>[555 N El Camino Real #A393,  \\nSan Clemente, ...</td>\n",
              "      <td>[555 N El Camino Real #A393,  \\nSan Clemente, ...</td>\n",
              "      <td>[555 N El Camino Real #A393,  \\nSan Clemente, ...</td>\n",
              "    </tr>\n",
              "    <tr>\n",
              "      <th>4</th>\n",
              "      <td>Cuántos recursos hay en el juego</td>\n",
              "      <td>[555 N El Camino Real #A393,  \\nSan Clemente, ...</td>\n",
              "      <td>[555 N El Camino Real #A393,  \\nSan Clemente, ...</td>\n",
              "      <td>[555 N El Camino Real #A393,  \\nSan Clemente, ...</td>\n",
              "    </tr>\n",
              "  </tbody>\n",
              "</table>\n",
              "</div>"
            ],
            "text/plain": [
              "                                        Query  \\\n",
              "0                Cómo se construyen edificios   \n",
              "1          Qué pasa cuando termina la partida   \n",
              "2                  Qué significa cada recurso   \n",
              "3  Qué pasa si no puedo construir un edificio   \n",
              "4            Cuántos recursos hay en el juego   \n",
              "\n",
              "                                          Top Cosine  \\\n",
              "0  [555 N El Camino Real #A393,  \\nSan Clemente, ...   \n",
              "1  [555 N El Camino Real #A393,  \\nSan Clemente, ...   \n",
              "2  [555 N El Camino Real #A393,  \\nSan Clemente, ...   \n",
              "3  [555 N El Camino Real #A393,  \\nSan Clemente, ...   \n",
              "4  [555 N El Camino Real #A393,  \\nSan Clemente, ...   \n",
              "\n",
              "                                       Top Euclidean  \\\n",
              "0  [555 N El Camino Real #A393,  \\nSan Clemente, ...   \n",
              "1  [555 N El Camino Real #A393,  \\nSan Clemente, ...   \n",
              "2  [555 N El Camino Real #A393,  \\nSan Clemente, ...   \n",
              "3  [555 N El Camino Real #A393,  \\nSan Clemente, ...   \n",
              "4  [555 N El Camino Real #A393,  \\nSan Clemente, ...   \n",
              "\n",
              "                                       Top Manhattan  \n",
              "0  [555 N El Camino Real #A393,  \\nSan Clemente, ...  \n",
              "1  [555 N El Camino Real #A393,  \\nSan Clemente, ...  \n",
              "2  [555 N El Camino Real #A393,  \\nSan Clemente, ...  \n",
              "3  [555 N El Camino Real #A393,  \\nSan Clemente, ...  \n",
              "4  [555 N El Camino Real #A393,  \\nSan Clemente, ...  "
            ]
          },
          "metadata": {},
          "output_type": "display_data"
        },
        {
          "data": {
            "image/png": "[encoded data removed]",
            "text/plain": [
              "<Figure size 1000x600 with 1 Axes>"
            ]
          },
          "metadata": {},
          "output_type": "display_data"
        }
      ],
      "source": [
        "# Instalar librerías necesarias\n",
        "!pip install -q sentence-transformers scikit-learn matplotlib pandas\n",
        "\n",
        "# Importar librerías\n",
        "from sentence_transformers import SentenceTransformer, util\n",
        "import pandas as pd\n",
        "import numpy as np\n",
        "import matplotlib.pyplot as plt\n",
        "from sklearn.metrics.pairwise import cosine_similarity, euclidean_distances, manhattan_distances\n",
        "from sklearn.decomposition import PCA\n",
        "\n",
        "with open(\"../datos/informacion/manual.txt\", \"r\", encoding=\"utf-8\") as f:\n",
        "    text = f.read()\n",
        "\n",
        "# Separar el texto en oraciones\n",
        "import re\n",
        "sentences = re.split(r'(?<=[.!?]) +', text)\n",
        "sentences = [s.strip() for s in sentences if len(s.strip()) > 20]\n",
        "\n",
        "# Cargar modelo SBERT\n",
        "model = SentenceTransformer('all-MiniLM-L6-v2')\n",
        "\n",
        "# Vectorizar fragmentos\n",
        "sentence_embeddings = model.encode(sentences, convert_to_tensor=True)\n",
        "\n",
        "# Consultas a buscar semánticamente\n",
        "queries = [\n",
        "    \"Cómo se construyen edificios\",\n",
        "    \"Qué pasa cuando termina la partida\",\n",
        "    \"Qué significa cada recurso\",\n",
        "    \"Qué pasa si no puedo construir un edificio\",\n",
        "    \"Cuántos recursos hay en el juego\"\n",
        "]\n",
        "query_embeddings = model.encode(queries, convert_to_tensor=True)\n",
        "\n",
        "# Similitud semántica\n",
        "cos_sim = util.cos_sim(query_embeddings, sentence_embeddings).cpu().numpy()\n",
        "euc_dist = euclidean_distances(query_embeddings, sentence_embeddings.cpu().numpy())\n",
        "man_dist = manhattan_distances(query_embeddings, sentence_embeddings.cpu().numpy())\n",
        "\n",
        "# Mostrar resultados por métrica\n",
        "results = []\n",
        "for i, query in enumerate(queries):\n",
        "    top_cos = np.argsort(-cos_sim[i])[:3]\n",
        "    top_euc = np.argsort(euc_dist[i])[:3]\n",
        "    top_man = np.argsort(man_dist[i])[:3]\n",
        "    results.append({\n",
        "        \"Query\": query,\n",
        "        \"Top Cosine\": [sentences[j] for j in top_cos],\n",
        "        \"Top Euclidean\": [sentences[j] for j in top_euc],\n",
        "        \"Top Manhattan\": [sentences[j] for j in top_man]\n",
        "    })\n",
        "\n",
        "df = pd.DataFrame(results)\n",
        "display(df)\n",
        "\n",
        "# Visualización en 3D (solo primeros 100 fragmentos por simplicidad)\n",
        "from mpl_toolkits.mplot3d import Axes3D\n",
        "\n",
        "reduced = PCA(n_components=3).fit_transform(\n",
        "    np.vstack((query_embeddings.cpu(), sentence_embeddings.cpu().numpy()[:100]))\n",
        ")\n",
        "labels = [\"Query\"]*len(queries) + [\"Fragment\"]*100\n",
        "df_plot = pd.DataFrame(reduced, columns=[\"x\", \"y\", \"z\"])\n",
        "df_plot[\"label\"] = labels\n",
        "\n",
        "fig = plt.figure(figsize=(10, 6))\n",
        "ax = fig.add_subplot(111, projection='3d')\n",
        "colors = {\"Query\": \"red\", \"Fragment\": \"blue\"}\n",
        "\n",
        "for label in df_plot[\"label\"].unique():\n",
        "    subset = df_plot[df_plot[\"label\"] == label]\n",
        "    ax.scatter(subset[\"x\"], subset[\"y\"], subset[\"z\"], label=label, c=colors[label])\n",
        "\n",
        "ax.set_title(\"Visualización PCA de Fragmentos y Consultas (SBERT)\")\n",
        "ax.legend()\n",
        "plt.show()\n"
      ]
    },
    {
      "cell_type": "markdown",
      "metadata": {
        "id": "IJXyMWPupbuv"
      },
      "source": [
        "### Ejercicio 3\n",
        "\n",
        "Apoyándose nuevamente en la sección de información. Recoge un texto extenso extraído,\n",
        "divídelos en fragmentos, luego realiza extracciones de sustantivos (POS) y categoriza estos\n",
        "sustantivos (NER), a continuación realiza una búsqueda de similitud filtrando por\n",
        "sustantivos, compara las distintas técnicas de distancias vistas en clases, elija la mejor y\n",
        "justifique la razón por la que esta técnica se ajusta para este tipo de búsquedas.\n"
      ]
    },
    {
      "cell_type": "code",
      "execution_count": 7,
      "metadata": {
        "colab": {
          "base_uri": "https://localhost:8080/"
        },
        "id": "NbdlEqIJpfww",
        "outputId": "0044a771-52f8-4acd-e666-f422942c2218"
      },
      "outputs": [
        {
          "name": "stdout",
          "output_type": "stream",
          "text": [
            "1: Título:Reseña: Tiny TownsEres el alcalde de una pequeña ciudad en el bosque, donde pacificas criaturas han creado una civilización escondida de los depredadores\n",
            "2: En esta diminuta tierra los recursos son escasos, así que tomas lo que puedes y nunca dices no a los materiales de construcción\n",
            "3: Planea con inteligencia para construir una ciudad prosperar y no permitas que se llene de recursos inútiles\n",
            "4: ¡Quien construye la ciudad más prospera será el ganador!\n",
            "Así se nos presenta Tiny Towns, un diseño de Peter McPherson, siendo este su primer título publicado\n",
            "5: El juego fue publicado en 2019 por Alderac Entertainment Group en una versión en inglés\n",
            "159\n"
          ]
        }
      ],
      "source": [
        "# Paso 1: cargar el texto manualmente\n",
        "with open(\"../datos/informacion/review_externa.txt\", \"r\", encoding=\"utf-8\") as f:\n",
        "    texto = f.read()\n",
        "\n",
        "# Paso 2: fragmentar el texto por oraciones de forma básica\n",
        "oraciones = [frase.strip() for frase in texto.split('.') if len(frase.strip()) > 20]\n",
        "\n",
        "# Mostrar ejemplo\n",
        "for i, oracion in enumerate(oraciones[:5]):\n",
        "    print(f\"{i+1}: {oracion}\")\n",
        "\n",
        "print(f\"{len(oraciones)}\")\n"
      ]
    },
    {
      "cell_type": "code",
      "execution_count": 16,
      "metadata": {
        "colab": {
          "base_uri": "https://localhost:8080/"
        },
        "id": "Zxg_GZrBuTFT",
        "outputId": "a107cbef-f437-405a-c092-63e730fb0a19"
      },
      "outputs": [
        {
          "name": "stdout",
          "output_type": "stream",
          "text": [
            "Requirement already satisfied: nltk in c:\\users\\marya\\appdata\\local\\packages\\pythonsoftwarefoundation.python.3.11_qbz5n2kfra8p0\\localcache\\local-packages\\python311\\site-packages (3.9.1)\n",
            "Requirement already satisfied: click in c:\\users\\marya\\appdata\\local\\packages\\pythonsoftwarefoundation.python.3.11_qbz5n2kfra8p0\\localcache\\local-packages\\python311\\site-packages (from nltk) (8.1.8)\n",
            "Requirement already satisfied: joblib in c:\\users\\marya\\appdata\\local\\packages\\pythonsoftwarefoundation.python.3.11_qbz5n2kfra8p0\\localcache\\local-packages\\python311\\site-packages (from nltk) (1.4.2)\n",
            "Requirement already satisfied: regex>=2021.8.3 in c:\\users\\marya\\appdata\\local\\packages\\pythonsoftwarefoundation.python.3.11_qbz5n2kfra8p0\\localcache\\local-packages\\python311\\site-packages (from nltk) (2024.11.6)\n",
            "Requirement already satisfied: tqdm in c:\\users\\marya\\appdata\\local\\packages\\pythonsoftwarefoundation.python.3.11_qbz5n2kfra8p0\\localcache\\local-packages\\python311\\site-packages (from nltk) (4.67.1)\n",
            "Requirement already satisfied: colorama in c:\\users\\marya\\appdata\\local\\packages\\pythonsoftwarefoundation.python.3.11_qbz5n2kfra8p0\\localcache\\local-packages\\python311\\site-packages (from click->nltk) (0.4.6)\n"
          ]
        },
        {
          "name": "stderr",
          "output_type": "stream",
          "text": [
            "\n",
            "[notice] A new release of pip is available: 24.0 -> 25.1.1\n",
            "[notice] To update, run: C:\\Users\\marya\\AppData\\Local\\Microsoft\\WindowsApps\\PythonSoftwareFoundation.Python.3.11_qbz5n2kfra8p0\\python.exe -m pip install --upgrade pip\n",
            "[nltk_data] Downloading package averaged_perceptron_tagger to\n",
            "[nltk_data]     ../nltk_data...\n",
            "[nltk_data]   Unzipping taggers\\averaged_perceptron_tagger.zip.\n",
            "[nltk_data] Downloading package averaged_perceptron_tagger_eng to\n",
            "[nltk_data]     ../nltk_data...\n",
            "[nltk_data]   Unzipping taggers\\averaged_perceptron_tagger_eng.zip.\n",
            "[nltk_data] Downloading package maxent_ne_chunker to ../nltk_data...\n",
            "[nltk_data]   Unzipping chunkers\\maxent_ne_chunker.zip.\n",
            "[nltk_data] Downloading package maxent_ne_chunker_tab to\n",
            "[nltk_data]     ../nltk_data...\n",
            "[nltk_data]   Unzipping chunkers\\maxent_ne_chunker_tab.zip.\n",
            "[nltk_data] Downloading package words to ../nltk_data...\n",
            "[nltk_data] Error downloading 'words' from\n",
            "[nltk_data]     <https://raw.githubusercontent.com/nltk/nltk_data/gh-\n",
            "[nltk_data]     pages/packages/corpora/words.zip>:   HTTP Error 429:\n",
            "[nltk_data]     Too Many Requests\n"
          ]
        },
        {
          "data": {
            "text/plain": [
              "False"
            ]
          },
          "execution_count": 16,
          "metadata": {},
          "output_type": "execute_result"
        }
      ],
      "source": [
        "# Todas las librerías para POS y NER\n",
        "!pip install nltk\n",
        "import nltk\n",
        "nltk.data.path.append(\"../nltk_data\")\n",
        "nltk.download('averaged_perceptron_tagger', download_dir='../nltk_data')\n",
        "nltk.download('averaged_perceptron_tagger_eng', download_dir='../nltk_data')\n",
        "nltk.download('maxent_ne_chunker', download_dir='../nltk_data')\n",
        "nltk.download('maxent_ne_chunker_tab', download_dir='../nltk_data')\n",
        "nltk.download('words', download_dir='../nltk_data')\n"
      ]
    },
    {
      "cell_type": "code",
      "execution_count": 17,
      "metadata": {
        "colab": {
          "base_uri": "https://localhost:8080/"
        },
        "id": "vgEA4jVOtnPN",
        "outputId": "222d1508-5d6b-49b9-e678-6d37a368a17f"
      },
      "outputs": [
        {
          "name": "stdout",
          "output_type": "stream",
          "text": [
            "1: ['Título:Reseña:', 'Tiny', 'TownsEres', 'alcalde', 'pequeña', 'ciudad', 'bosque,', 'donde', 'pacificas', 'criaturas', 'civilización', 'escondida', 'depredadores']\n",
            "2: ['En', 'esta', 'diminuta', 'tierra', 'los', 'son', 'escasos,', 'así', 'que', 'tomas', 'lo', 'que', 'puedes', 'dices', 'construcción']\n",
            "3: ['Planea', 'con', 'inteligencia', 'para', 'construir', 'ciudad', 'prosperar', 'permitas', 'que', 'llene', 'recursos', 'inútiles']\n"
          ]
        }
      ],
      "source": [
        "from nltk import pos_tag\n",
        "\n",
        "# Extraer sustantivos de cada oración (usando split básico en lugar de word_tokenize)\n",
        "sustantivos_por_oracion = []\n",
        "\n",
        "for oracion in oraciones:\n",
        "    tokens = oracion.split()  # tokenización básica\n",
        "    tags = pos_tag(tokens)\n",
        "    sustantivos = [palabra for palabra, etiqueta in tags if etiqueta.startswith('NN')]\n",
        "    sustantivos_por_oracion.append(sustantivos)\n",
        "\n",
        "# Mostrar los sustantivos de las primeras 3 oraciones\n",
        "for i in range(3):\n",
        "    print(f\"{i+1}: {sustantivos_por_oracion[i]}\")\n"
      ]
    },
    {
      "cell_type": "code",
      "execution_count": null,
      "metadata": {
        "colab": {
          "base_uri": "https://localhost:8080/"
        },
        "id": "TH1r_OkOuaua",
        "outputId": "28c081c1-f22f-400c-c38e-aef70582a957"
      },
      "outputs": [
        {
          "name": "stderr",
          "output_type": "stream",
          "text": [
            "[nltk_data] Downloading package maxent_ne_chunker to\n",
            "[nltk_data]     C:\\Users\\marya\\AppData\\Roaming\\nltk_data...\n",
            "[nltk_data]   Package maxent_ne_chunker is already up-to-date!\n",
            "[nltk_data] Downloading package words to\n",
            "[nltk_data]     C:\\Users\\marya\\AppData\\Roaming\\nltk_data...\n",
            "[nltk_data]   Package words is already up-to-date!\n"
          ]
        },
        {
          "name": "stdout",
          "output_type": "stream",
          "text": [
            "1: []\n",
            "2: [('En', 'GPE')]\n",
            "3: [('Planea', 'GPE')]\n"
          ]
        }
      ],
      "source": [
        "#### está mal esta celda porque no usó Spacy multilingual y detecta mal el idioma\n",
        "\n",
        "nltk.download('maxent_ne_chunker')\n",
        "nltk.download('words')\n",
        "from nltk import ne_chunk\n",
        "\n",
        "# Extraer entidades nombradas por oración\n",
        "entidades_por_oracion = []\n",
        "\n",
        "for oracion in oraciones:\n",
        "    tokens = oracion.split()\n",
        "    tagged = pos_tag(tokens, lang='eng')\n",
        "    entidades_chunk = ne_chunk(tagged, binary=False)  # binary=False para obtener etiquetas específicas\n",
        "    entidades = []\n",
        "\n",
        "    for subtree in entidades_chunk:\n",
        "        if hasattr(subtree, 'label'):\n",
        "            entidad = \" \".join([token for token, pos in subtree.leaves()])\n",
        "            etiqueta = subtree.label()\n",
        "            entidades.append((entidad, etiqueta))\n",
        "\n",
        "    entidades_por_oracion.append(entidades)\n",
        "\n",
        "# Mostrar entidades de las primeras 3 oraciones\n",
        "for i in range(3):\n",
        "    print(f\"{i+1}: {entidades_por_oracion[i]}\")\n"
      ]
    },
    {
      "cell_type": "code",
      "execution_count": 19,
      "metadata": {
        "colab": {
          "base_uri": "https://localhost:8080/"
        },
        "id": "bsLEyNNMxs2_",
        "outputId": "a37d21c1-2b42-4072-b972-d153612470d0"
      },
      "outputs": [
        {
          "name": "stderr",
          "output_type": "stream",
          "text": [
            "\n",
            "[notice] A new release of pip is available: 24.0 -> 25.1.1\n",
            "[notice] To update, run: C:\\Users\\marya\\AppData\\Local\\Microsoft\\WindowsApps\\PythonSoftwareFoundation.Python.3.11_qbz5n2kfra8p0\\python.exe -m pip install --upgrade pip\n",
            "\n",
            "[notice] A new release of pip is available: 24.0 -> 25.1.1\n",
            "[notice] To update, run: C:\\Users\\marya\\AppData\\Local\\Microsoft\\WindowsApps\\PythonSoftwareFoundation.Python.3.11_qbz5n2kfra8p0\\python.exe -m pip install --upgrade pip\n"
          ]
        },
        {
          "name": "stdout",
          "output_type": "stream",
          "text": [
            "Collecting es-core-news-md==3.8.0\n",
            "  Downloading https://github.com/explosion/spacy-models/releases/download/es_core_news_md-3.8.0/es_core_news_md-3.8.0-py3-none-any.whl (42.3 MB)\n",
            "     ---------------------------------------- 0.0/42.3 MB ? eta -:--:--\n",
            "     --------------------------------------- 0.0/42.3 MB 640.0 kB/s eta 0:01:07\n",
            "     --------------------------------------- 0.1/42.3 MB 812.7 kB/s eta 0:00:52\n",
            "     --------------------------------------- 0.1/42.3 MB 777.7 kB/s eta 0:00:55\n",
            "     --------------------------------------- 0.2/42.3 MB 913.1 kB/s eta 0:00:47\n",
            "     ---------------------------------------- 0.2/42.3 MB 1.2 MB/s eta 0:00:36\n",
            "     --------------------------------------- 0.3/42.3 MB 983.0 kB/s eta 0:00:43\n",
            "     ---------------------------------------- 0.4/42.3 MB 1.3 MB/s eta 0:00:32\n",
            "      --------------------------------------- 0.6/42.3 MB 1.7 MB/s eta 0:00:26\n",
            "      --------------------------------------- 0.6/42.3 MB 1.6 MB/s eta 0:00:26\n",
            "      --------------------------------------- 0.9/42.3 MB 2.0 MB/s eta 0:00:21\n",
            "     - -------------------------------------- 1.3/42.3 MB 2.6 MB/s eta 0:00:16\n",
            "     - -------------------------------------- 1.4/42.3 MB 2.6 MB/s eta 0:00:16\n",
            "     - -------------------------------------- 2.0/42.3 MB 3.4 MB/s eta 0:00:12\n",
            "     -- ------------------------------------- 2.6/42.3 MB 4.2 MB/s eta 0:00:10\n",
            "     -- ------------------------------------- 2.9/42.3 MB 4.3 MB/s eta 0:00:10\n",
            "     --- ------------------------------------ 4.0/42.3 MB 5.6 MB/s eta 0:00:07\n",
            "     ----- ---------------------------------- 5.3/42.3 MB 7.0 MB/s eta 0:00:06\n",
            "     ----- ---------------------------------- 5.8/42.3 MB 7.1 MB/s eta 0:00:06\n",
            "     ------- -------------------------------- 8.0/42.3 MB 9.3 MB/s eta 0:00:04\n",
            "     --------- ------------------------------ 9.5/42.3 MB 10.5 MB/s eta 0:00:04\n",
            "     --------- ----------------------------- 10.0/42.3 MB 10.5 MB/s eta 0:00:04\n",
            "     --------- ----------------------------- 10.5/42.3 MB 14.2 MB/s eta 0:00:03\n",
            "     --------- ----------------------------- 10.5/42.3 MB 14.2 MB/s eta 0:00:03\n",
            "     --------- ----------------------------- 10.5/42.3 MB 14.2 MB/s eta 0:00:03\n",
            "     ---------- ---------------------------- 11.5/42.3 MB 15.6 MB/s eta 0:00:02\n",
            "     ----------- --------------------------- 12.6/42.3 MB 18.2 MB/s eta 0:00:02\n",
            "     ----------- --------------------------- 12.6/42.3 MB 18.2 MB/s eta 0:00:02\n",
            "     ------------ -------------------------- 13.9/42.3 MB 17.7 MB/s eta 0:00:02\n",
            "     --------------- ----------------------- 16.3/42.3 MB 20.5 MB/s eta 0:00:02\n",
            "     --------------- ----------------------- 16.8/42.3 MB 20.5 MB/s eta 0:00:02\n",
            "     ---------------- ---------------------- 18.1/42.3 MB 18.2 MB/s eta 0:00:02\n",
            "     ------------------ -------------------- 20.5/42.3 MB 21.1 MB/s eta 0:00:02\n",
            "     ------------------- ------------------- 20.9/42.3 MB 28.5 MB/s eta 0:00:01\n",
            "     ------------------- ------------------- 21.0/42.3 MB 25.2 MB/s eta 0:00:01\n",
            "     ------------------- ------------------- 21.0/42.3 MB 22.6 MB/s eta 0:00:01\n",
            "     ------------------- ------------------- 21.0/42.3 MB 22.6 MB/s eta 0:00:01\n",
            "     --------------------- ----------------- 23.4/42.3 MB 22.5 MB/s eta 0:00:01\n",
            "     ----------------------- --------------- 25.2/42.3 MB 23.4 MB/s eta 0:00:01\n",
            "     ----------------------- --------------- 25.2/42.3 MB 23.4 MB/s eta 0:00:01\n",
            "     ------------------------- ------------- 28.0/42.3 MB 23.4 MB/s eta 0:00:01\n",
            "     --------------------------- ----------- 29.4/42.3 MB 24.2 MB/s eta 0:00:01\n",
            "     --------------------------- ----------- 29.4/42.3 MB 24.2 MB/s eta 0:00:01\n",
            "     ----------------------------- --------- 31.5/42.3 MB 34.4 MB/s eta 0:00:01\n",
            "     ----------------------------- --------- 31.5/42.3 MB 34.4 MB/s eta 0:00:01\n",
            "     ----------------------------- --------- 31.5/42.3 MB 34.4 MB/s eta 0:00:01\n",
            "     ------------------------------ -------- 32.6/42.3 MB 24.2 MB/s eta 0:00:01\n",
            "     -------------------------------- ------ 34.9/42.3 MB 23.4 MB/s eta 0:00:01\n",
            "     -------------------------------- ------ 35.7/42.3 MB 27.3 MB/s eta 0:00:01\n",
            "     ---------------------------------- ---- 37.0/42.3 MB 23.4 MB/s eta 0:00:01\n",
            "     ------------------------------------ -- 39.9/42.3 MB 28.5 MB/s eta 0:00:01\n",
            "     ------------------------------------ -- 39.9/42.3 MB 28.5 MB/s eta 0:00:01\n",
            "     ------------------------------------- - 41.2/42.3 MB 23.4 MB/s eta 0:00:01\n",
            "     --------------------------------------  41.9/42.3 MB 34.4 MB/s eta 0:00:01\n",
            "     --------------------------------------  41.9/42.3 MB 34.4 MB/s eta 0:00:01\n",
            "     --------------------------------------  42.1/42.3 MB 24.2 MB/s eta 0:00:01\n",
            "     --------------------------------------  42.3/42.3 MB 24.2 MB/s eta 0:00:01\n",
            "     --------------------------------------  42.3/42.3 MB 24.2 MB/s eta 0:00:01\n",
            "     --------------------------------------- 42.3/42.3 MB 19.3 MB/s eta 0:00:00\n",
            "Installing collected packages: es-core-news-md\n",
            "Successfully installed es-core-news-md-3.8.0\n",
            "\u001b[38;5;2m✔ Download and installation successful\u001b[0m\n",
            "You can now load the package via spacy.load('es_core_news_md')\n",
            "1: [('Título:Reseña: Tiny TownsEres', 'MISC')]\n",
            "2: []\n",
            "3: []\n"
          ]
        }
      ],
      "source": [
        "# Instalar el modelo multilingüe de spaCy\n",
        "!pip install -q spacy\n",
        "!python -m spacy download es_core_news_md\n",
        "\n",
        "# Importar y cargar el modelo en español\n",
        "import spacy\n",
        "nlp = spacy.load(\"es_core_news_md\")\n",
        "\n",
        "# Aplicar NER a cada oración\n",
        "entidades_spacy = []\n",
        "\n",
        "for oracion in oraciones:\n",
        "    doc = nlp(oracion)\n",
        "    entidades = [(ent.text, ent.label_) for ent in doc.ents]\n",
        "    entidades_spacy.append(entidades)\n",
        "\n",
        "# Mostrar entidades de las primeras 3 oraciones\n",
        "for i in range(3):\n",
        "    print(f\"{i+1}: {entidades_spacy[i]}\")\n"
      ]
    },
    {
      "cell_type": "code",
      "execution_count": 20,
      "metadata": {
        "colab": {
          "base_uri": "https://localhost:8080/"
        },
        "id": "9rF5b1sxzek9",
        "outputId": "1874f1eb-3447-4251-d8a8-5793b0c76e4a"
      },
      "outputs": [
        {
          "name": "stdout",
          "output_type": "stream",
          "text": [
            "\n",
            "🔹 Top 3 oraciones similares por COSENO:\n",
            "- 68: Se usa el mazo de alcalde\n",
            "- 93: Nos hemos convertido en alcaldes de una pequeña ciudad en la que las criaturas viven en paz, con el único objetivo de prosperar y llevar a su urbe un paso más allá para envidia de los municipios cercanos\n",
            "- 3: ¡Quien construye la ciudad más prospera será el ganador!\n",
            "Así se nos presenta Tiny Towns, un diseño de Peter McPherson, siendo este su primer título publicado\n",
            "\n",
            "🔹 Top 3 oraciones similares por EUCLÍDEA:\n",
            "- 68: Se usa el mazo de alcalde\n",
            "- 93: Nos hemos convertido en alcaldes de una pequeña ciudad en la que las criaturas viven en paz, con el único objetivo de prosperar y llevar a su urbe un paso más allá para envidia de los municipios cercanos\n",
            "- 3: ¡Quien construye la ciudad más prospera será el ganador!\n",
            "Así se nos presenta Tiny Towns, un diseño de Peter McPherson, siendo este su primer título publicado\n",
            "\n",
            "🔹 Top 3 oraciones similares por MANHATTAN:\n",
            "- 71: El final de la partida es el habitual\n",
            "- 36: Con esto tenemos suficiente\n",
            "- 24: Estos elementos podrán ser de dos tipos\n"
          ]
        },
        {
          "name": "stderr",
          "output_type": "stream",
          "text": [
            "C:\\Users\\marya\\AppData\\Local\\Packages\\PythonSoftwareFoundation.Python.3.11_qbz5n2kfra8p0\\LocalCache\\local-packages\\Python311\\site-packages\\joblib\\externals\\loky\\backend\\context.py:136: UserWarning: Could not find the number of physical cores for the following reason:\n",
            "[WinError 2] The system cannot find the file specified\n",
            "Returning the number of logical cores instead. You can silence this warning by setting LOKY_MAX_CPU_COUNT to the number of cores you want to use.\n",
            "  warnings.warn(\n",
            "  File \"C:\\Users\\marya\\AppData\\Local\\Packages\\PythonSoftwareFoundation.Python.3.11_qbz5n2kfra8p0\\LocalCache\\local-packages\\Python311\\site-packages\\joblib\\externals\\loky\\backend\\context.py\", line 257, in _count_physical_cores\n",
            "    cpu_info = subprocess.run(\n",
            "               ^^^^^^^^^^^^^^^\n",
            "  File \"C:\\Program Files\\WindowsApps\\PythonSoftwareFoundation.Python.3.11_3.11.2544.0_x64__qbz5n2kfra8p0\\Lib\\subprocess.py\", line 548, in run\n",
            "    with Popen(*popenargs, **kwargs) as process:\n",
            "         ^^^^^^^^^^^^^^^^^^^^^^^^^^^\n",
            "  File \"C:\\Program Files\\WindowsApps\\PythonSoftwareFoundation.Python.3.11_3.11.2544.0_x64__qbz5n2kfra8p0\\Lib\\subprocess.py\", line 1026, in __init__\n",
            "    self._execute_child(args, executable, preexec_fn, close_fds,\n",
            "  File \"C:\\Program Files\\WindowsApps\\PythonSoftwareFoundation.Python.3.11_3.11.2544.0_x64__qbz5n2kfra8p0\\Lib\\subprocess.py\", line 1538, in _execute_child\n",
            "    hp, ht, pid, tid = _winapi.CreateProcess(executable, args,\n",
            "                       ^^^^^^^^^^^^^^^^^^^^^^^^^^^^^^^^^^^^^^^\n"
          ]
        }
      ],
      "source": [
        "from sklearn.feature_extraction.text import TfidfVectorizer\n",
        "from sklearn.metrics.pairwise import cosine_similarity, euclidean_distances, manhattan_distances\n",
        "import numpy as np\n",
        "\n",
        "# Convertir la lista de sustantivos por oración en strings\n",
        "sustantivos_texto = [\" \".join(sustantivos) for sustantivos in sustantivos_por_oracion]\n",
        "\n",
        "# Vectorización con TF-IDF\n",
        "vectorizer = TfidfVectorizer()\n",
        "tfidf_matrix = vectorizer.fit_transform(sustantivos_texto)\n",
        "\n",
        "# Elegimos una oración ejemplo (por ejemplo la primera) para comparar con las demás\n",
        "idx_consulta = 0  # podés cambiar este índice\n",
        "consulta_vector = tfidf_matrix[idx_consulta]\n",
        "\n",
        "# Cálculo de distancias\n",
        "cos_sim = cosine_similarity(consulta_vector, tfidf_matrix)[0]\n",
        "euc_dist = euclidean_distances(consulta_vector, tfidf_matrix)[0]\n",
        "man_dist = manhattan_distances(consulta_vector, tfidf_matrix)[0]\n",
        "\n",
        "# Mostrar las 3 oraciones más similares (coseno → mayor es mejor)\n",
        "top_cos = np.argsort(-cos_sim)[1:4]\n",
        "print(\"\\n🔹 Top 3 oraciones similares por COSENO:\")\n",
        "for i in top_cos:\n",
        "    print(f\"- {i}: {oraciones[i]}\")\n",
        "\n",
        "# Mostrar las 3 oraciones más cercanas (euclídea → menor es mejor)\n",
        "top_euc = np.argsort(euc_dist)[1:4]\n",
        "print(\"\\n🔹 Top 3 oraciones similares por EUCLÍDEA:\")\n",
        "for i in top_euc:\n",
        "    print(f\"- {i}: {oraciones[i]}\")\n",
        "\n",
        "# Mostrar las 3 oraciones más cercanas (manhattan → menor es mejor)\n",
        "top_man = np.argsort(man_dist)[1:4]\n",
        "print(\"\\n🔹 Top 3 oraciones similares por MANHATTAN:\")\n",
        "for i in top_man:\n",
        "    print(f\"- {i}: {oraciones[i]}\")\n"
      ]
    },
    {
      "cell_type": "markdown",
      "metadata": {
        "id": "Aba-rHqR2n6V"
      },
      "source": [
        "### Ejercicio 4\n",
        "Mediante detección de idioma, separar los archivos en distintos lenguajes y guardar esa\n",
        "información en un dataframe.\n"
      ]
    },
    {
      "cell_type": "code",
      "execution_count": 21,
      "metadata": {
        "id": "y-rhU3_L2vNt"
      },
      "outputs": [
        {
          "name": "stdout",
          "output_type": "stream",
          "text": [
            "Collecting langdetect\n",
            "  Downloading langdetect-1.0.9.tar.gz (981 kB)\n",
            "     ---------------------------------------- 0.0/981.5 kB ? eta -:--:--\n",
            "      ------------------------------------ 20.5/981.5 kB 640.0 kB/s eta 0:00:02\n",
            "     -- ---------------------------------- 61.4/981.5 kB 656.4 kB/s eta 0:00:02\n",
            "     --------- ---------------------------- 235.5/981.5 kB 1.8 MB/s eta 0:00:01\n",
            "     -------------------------------------  972.8/981.5 kB 5.6 MB/s eta 0:00:01\n",
            "     -------------------------------------- 981.5/981.5 kB 5.6 MB/s eta 0:00:00\n",
            "  Installing build dependencies: started\n",
            "  Installing build dependencies: finished with status 'done'\n",
            "  Getting requirements to build wheel: started\n",
            "  Getting requirements to build wheel: finished with status 'done'\n",
            "  Preparing metadata (pyproject.toml): started\n",
            "  Preparing metadata (pyproject.toml): finished with status 'done'\n",
            "Requirement already satisfied: six in c:\\users\\marya\\appdata\\local\\packages\\pythonsoftwarefoundation.python.3.11_qbz5n2kfra8p0\\localcache\\local-packages\\python311\\site-packages (from langdetect) (1.17.0)\n",
            "Building wheels for collected packages: langdetect\n",
            "  Building wheel for langdetect (pyproject.toml): started\n",
            "  Building wheel for langdetect (pyproject.toml): finished with status 'done'\n",
            "  Created wheel for langdetect: filename=langdetect-1.0.9-py3-none-any.whl size=993364 sha256=4941380d7356766d4bc08b3708f30bbf1233dd0a096e5d8d7c15ad382f527122\n",
            "  Stored in directory: c:\\users\\marya\\appdata\\local\\packages\\pythonsoftwarefoundation.python.3.11_qbz5n2kfra8p0\\localcache\\local\\pip\\cache\\wheels\\0a\\f2\\b2\\e5ca405801e05eb7c8ed5b3b4bcf1fcabcd6272c167640072e\n",
            "Successfully built langdetect\n",
            "Installing collected packages: langdetect\n",
            "Successfully installed langdetect-1.0.9\n"
          ]
        },
        {
          "name": "stderr",
          "output_type": "stream",
          "text": [
            "\n",
            "[notice] A new release of pip is available: 24.0 -> 25.1.1\n",
            "[notice] To update, run: C:\\Users\\marya\\AppData\\Local\\Microsoft\\WindowsApps\\PythonSoftwareFoundation.Python.3.11_qbz5n2kfra8p0\\python.exe -m pip install --upgrade pip\n"
          ]
        }
      ],
      "source": [
        "!pip install langdetect"
      ]
    },
    {
      "cell_type": "code",
      "execution_count": 22,
      "metadata": {
        "id": "LVq719qt7kyy"
      },
      "outputs": [],
      "source": [
        "import os\n",
        "import pandas as pd\n",
        "from langdetect import detect, DetectorFactory\n",
        "DetectorFactory.seed = 0  # Para resultados consistentes"
      ]
    },
    {
      "cell_type": "code",
      "execution_count": 23,
      "metadata": {
        "id": "bD0QIetz7k7M"
      },
      "outputs": [],
      "source": [
        "carpeta = '../datos/informacion'  # Reemplaza con la ruta correcta"
      ]
    },
    {
      "cell_type": "code",
      "execution_count": 24,
      "metadata": {
        "id": "_sHGUK0R7lDG"
      },
      "outputs": [],
      "source": [
        "datos = []\n",
        "\n",
        "for archivo in os.listdir(carpeta):\n",
        "    if archivo.endswith('.txt'):\n",
        "        ruta_archivo = os.path.join(carpeta, archivo)\n",
        "        with open(ruta_archivo, 'r', encoding='utf-8') as f:\n",
        "            contenido = f.read()\n",
        "            try:\n",
        "                idioma = detect(contenido)\n",
        "            except:\n",
        "                idioma = 'desconocido'\n",
        "            datos.append({'archivo': archivo, 'idioma': idioma})"
      ]
    },
    {
      "cell_type": "code",
      "execution_count": 25,
      "metadata": {
        "id": "oTxhTaw47vwd"
      },
      "outputs": [
        {
          "name": "stdout",
          "output_type": "stream",
          "text": [
            "              archivo idioma\n",
            "0          manual.txt     en\n",
            "1      review_bgg.txt     es\n",
            "2  review_externa.txt     es\n",
            "3          video1.txt     nl\n",
            "4          video2.txt     en\n",
            "5          video3.txt     en\n",
            "6          video4.txt     es\n"
          ]
        }
      ],
      "source": [
        "df_idiomas = pd.DataFrame(datos)\n",
        "print(df_idiomas)"
      ]
    },
    {
      "cell_type": "code",
      "execution_count": null,
      "metadata": {
        "id": "OignCRVO7v4T"
      },
      "outputs": [],
      "source": []
    }
  ],
  "metadata": {
    "colab": {
      "provenance": []
    },
    "kernelspec": {
      "display_name": "Python 3",
      "name": "python3"
    },
    "language_info": {
      "codemirror_mode": {
        "name": "ipython",
        "version": 3
      },
      "file_extension": ".py",
      "mimetype": "text/x-python",
      "name": "python",
      "nbconvert_exporter": "python",
      "pygments_lexer": "ipython3",
      "version": "3.11.9"
    }
  },
  "nbformat": 4,
  "nbformat_minor": 0
}
